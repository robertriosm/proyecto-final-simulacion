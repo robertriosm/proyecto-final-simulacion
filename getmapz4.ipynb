{
 "cells": [
  {
   "cell_type": "code",
   "execution_count": 8,
   "metadata": {},
   "outputs": [],
   "source": [
    "import requests"
   ]
  },
  {
   "cell_type": "code",
   "execution_count": 9,
   "metadata": {},
   "outputs": [],
   "source": [
    "def gettoken():\n",
    "    with open(\"t.txt\", mode=\"r\", encoding=\"utf-8\") as f:\n",
    "        return f.readline().strip()"
   ]
  },
  {
   "cell_type": "code",
   "execution_count": 10,
   "metadata": {},
   "outputs": [],
   "source": [
    "key=gettoken()\n",
    "url = \"https://maps.googleapis.com/maps/api/staticmap?\""
   ]
  },
  {
   "cell_type": "code",
   "execution_count": 11,
   "metadata": {},
   "outputs": [],
   "source": [
    "# Initialize the city and zoom value\n",
    "center = \"Zone 4, Guatemala City, Guatemala\"\n",
    "zoom = 16"
   ]
  },
  {
   "cell_type": "code",
   "execution_count": 12,
   "metadata": {},
   "outputs": [],
   "source": [
    "# Update the URL with API Key, City, and Zoom value\n",
    "r = requests.get(url + \"center=\" + center + \"&zoom=\" + str(zoom) + \"&size=520x520\" + \"&key=\" + key + \"&style=feature:all|element:labels|visibility:off&style=feature:road|color:0x000000&style=feature:transit.line|visibility:off\")\n",
    "\n",
    "# Write the response to a file for saving the image\n",
    "with open('mapz4v2.png', 'wb') as f:\n",
    "    f.write(r.content)"
   ]
  },
  {
   "cell_type": "code",
   "execution_count": 13,
   "metadata": {},
   "outputs": [],
   "source": [
    "from PIL import Image"
   ]
  },
  {
   "cell_type": "code",
   "execution_count": 14,
   "metadata": {},
   "outputs": [],
   "source": [
    "# Open an image file\n",
    "with Image.open('mapz4v2.png') as img:\n",
    "    # Define the area to crop: (left, upper, right, lower)\n",
    "    area = (0, 0, 500, 500)\n",
    "    # Crop the image\n",
    "    cropped_img = img.crop(area)\n",
    "\n",
    "    cropped_img.save(\"mapz4v2.png\")"
   ]
  }
 ],
 "metadata": {
  "kernelspec": {
   "display_name": "venv",
   "language": "python",
   "name": "python3"
  },
  "language_info": {
   "codemirror_mode": {
    "name": "ipython",
    "version": 3
   },
   "file_extension": ".py",
   "mimetype": "text/x-python",
   "name": "python",
   "nbconvert_exporter": "python",
   "pygments_lexer": "ipython3",
   "version": "3.9.2"
  }
 },
 "nbformat": 4,
 "nbformat_minor": 2
}
